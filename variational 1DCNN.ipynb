{
 "cells": [
  {
   "cell_type": "code",
   "execution_count": null,
   "id": "e41cad9b-ec4d-4417-8b1d-967bd5c58968",
   "metadata": {},
   "outputs": [],
   "source": [
    "try: #If running in colab \n",
    "    import google.colab\n",
    "    IN_COLAB = True \n",
    "    %tensorflow_version 2.x\n",
    "except:\n",
    "    IN_COLAB = False"
   ]
  },
  {
   "cell_type": "code",
   "execution_count": null,
   "id": "c59f2948-8e47-4d38-aa47-30cb9c10b790",
   "metadata": {},
   "outputs": [],
   "source": [
    "import tensorflow as tf\n",
    "if (not tf.__version__.startswith('2')): #Checking if tf 2.0 is installed\n",
    "    print('Please install tensorflow 2.0 to run this notebook')\n",
    "print('Tensorflow version: ',tf.__version__, ' running in colab?: ', IN_COLAB)\n",
    "if IN_COLAB:\n",
    "    !pip install tensorflow_probability==0.8.0"
   ]
  },
  {
   "cell_type": "code",
   "execution_count": null,
   "id": "82652974-b847-487e-95eb-2dcdff015af2",
   "metadata": {},
   "outputs": [],
   "source": [
    "import matplotlib.pyplot as plt\n",
    "import numpy as np\n",
    "import pandas as pd\n",
    "from tqdm import tqdm_notebook as tqdm\n",
    "import urllib.request\n",
    "from sklearn.model_selection import train_test_split\n",
    "import tensorflow_probability as tfp\n",
    "\n",
    "%matplotlib inline\n",
    "plt.style.use('default')\n",
    "\n",
    "print(\"TFP Version\", tfp.__version__)\n",
    "print(\"TF  Version\",tf.__version__)"
   ]
  },
  {
   "cell_type": "code",
   "execution_count": null,
   "id": "c0a00d12-884d-4f15-a6ab-1e496dd41e79",
   "metadata": {},
   "outputs": [],
   "source": [
    "import pandas as pd\n",
    "import numpy as np\n",
    "import tensorflow as tf\n",
    "import keras\n",
    "from keras import backend as K\n",
    "from keras.layers import (Activation, AveragePooling1D, BatchNormalization,\n",
    "                          Conv1D, Dense, GlobalAveragePooling1D, Input)\n",
    "from keras.layers.core import Lambda\n",
    "from keras.models import Model\n",
    "from keras.optimizers import Nadam\n",
    "from keras.regularizers import l2\n",
    "import pandas as pd\n",
    "from sklearn.model_selection import train_test_split\n",
    "from keras.utils import generic_utils\n",
    "from keras.utils import np_utils,plot_model\n",
    "from sklearn.preprocessing import StandardScaler\n",
    "from sklearn.preprocessing import LabelEncoder\n",
    "from scipy import stats\n",
    "import numpy as np\n",
    "import pandas as pd\n",
    "import keras\n",
    "from keras.models import Sequential\n",
    "from keras.wrappers.scikit_learn import KerasClassifier\n",
    "from keras.utils import np_utils,plot_model\n",
    "from sklearn.model_selection import cross_val_score,train_test_split,KFold\n",
    "from sklearn.preprocessing import LabelEncoder\n",
    "from keras.layers import Dense,Dropout,Flatten,Conv1D,MaxPooling1D\n",
    "from keras.models import model_from_json\n",
    "import matplotlib.pyplot as plt\n",
    "from sklearn.metrics import confusion_matrix\n",
    "import itertools\n",
    "import pymrmr "
   ]
  },
  {
   "cell_type": "code",
   "execution_count": null,
   "id": "b06c5753-d433-409e-bb15-4a8d408cc444",
   "metadata": {},
   "outputs": [],
   "source": [
    "kernel_posterior_fn = tfp.layers.default_mean_field_normal_fn(\n",
    "      untransformed_scale_initializer=tf.compat.v1.initializers.random_normal(\n",
    "          mean=-9,\n",
    "          stddev=0.1),)\n",
    "kernel_divergence_fn=lambda q, p, _: tfp.distributions.kl_divergence(q, p) / (x_train.shape[0] *1.0)\n",
    "\n",
    "model_vi = Sequential()\n",
    "model_vi.add(tfp.layers.Convolution1DFlipout(16, kernel_size=8,strides=2,padding=\"same\", activation = 'relu', kernel_divergence_fn=kernel_divergence_fn,input_shape=(16,1)))\n",
    "model_vi.add(tf.keras.layers.MaxPooling1D(pool_size=2,padding='SAME'))\n",
    "model_vi.add(tfp.layers.Convolution1DFlipout(64, kernel_size=4,strides=2,padding=\"same\", activation = 'relu', kernel_divergence_fn=kernel_divergence_fn))\n",
    "model_vi.add(tf.keras.layers.MaxPooling1D(pool_size=2,padding='SAME'))\n",
    "model_vi.add(tfp.layers.Convolution1DFlipout(256, kernel_size=4,strides=2,padding=\"same\", activation = 'relu', kernel_divergence_fn=kernel_divergence_fn))\n",
    "model_vi.add(tf.keras.layers.MaxPooling1D(pool_size=2,padding='SAME'))\n",
    "model_vi.add(tfp.layers.Convolution1DFlipout(512, kernel_size=2,strides=1, padding=\"same\", activation = 'relu', kernel_divergence_fn=kernel_divergence_fn))\n",
    "model_vi.add(tf.keras.layers.MaxPooling1D(pool_size=2,padding='SAME'))\n",
    "model_vi.add(tf.keras.layers.Flatten())\n",
    "model_vi.add(tfp.layers.DenseFlipout(100, activation = 'relu', kernel_divergence_fn=kernel_divergence_fn))\n",
    "#model_vi.add(tfp.layers.DenseFlipout(100, activation = 'relu', kernel_divergence_fn=kernel_divergence_fn))\n",
    "model_vi.add(tfp.layers.DenseFlipout(4, activation = 'sigmoid', kernel_divergence_fn=kernel_divergence_fn))\n",
    "\n",
    "model_vi.compile(loss='categorical_crossentropy', optimizer=\"adam\", metrics=['accuracy'])\n",
    "model_vi.summary()"
   ]
  },
  {
   "cell_type": "code",
   "execution_count": null,
   "id": "847ac4b3-3491-45e6-ac7f-02cbd89cefe1",
   "metadata": {},
   "outputs": [],
   "source": [
    "epoch, batch_size = 1, 512\n",
    "history_vi = model_vi.fit(x_train, y_train, epochs=epoch, batch_size=batch_size, validation_data=(x_val,y_val))\n",
    "epochs_vi=range(len(history_vi.history['accuracy']))"
   ]
  },
  {
   "cell_type": "code",
   "execution_count": null,
   "id": "2a6c845d-5f8f-469e-8b1d-d0008478ef30",
   "metadata": {},
   "outputs": [],
   "source": [
    " pred_vi=np.zeros((len(x_val),4))\n",
    "    pred_max_p_vi=np.zeros((len(x_val)))\n",
    "    pred_std_vi=np.zeros((len(x_val)))\n",
    "    entropyaleatoric_vi = np.zeros((len(x_val)))\n",
    "    entropyepistemic_vi = np.zeros((len(x_val)))\n",
    "    for i in tqdm(range(0,len(x_val))):\n",
    "\n",
    "        multi_img=np.tile(x_val[i],(5,1,1))\n",
    "        preds=model.predict(multi_img)\n",
    "        pred_vi[i]=np.mean(preds,axis=0)#mean over n runs of every proba class\n",
    "        for j in range(0,4):\n",
    "            for z in range (0,5):\n",
    "                entropyaleatoric_vi[i] = -((np.sum(preds[z][j] * np.log2(preds[z][j] + 1E-14)))/5) \n",
    "                entropyepistemic_vi[i] = (-np.sum(pred_vi[i][j] * np.log2(pred_vi[i][j] + 1E-14)))+((np.sum(preds[z][j] * np.log2(preds[z][j] + 1E-14)))/5)"
   ]
  }
 ],
 "metadata": {
  "kernelspec": {
   "display_name": "Python [conda env:.conda-tensorflow]",
   "language": "python",
   "name": "conda-env-.conda-tensorflow-py"
  },
  "language_info": {
   "codemirror_mode": {
    "name": "ipython",
    "version": 3
   },
   "file_extension": ".py",
   "mimetype": "text/x-python",
   "name": "python",
   "nbconvert_exporter": "python",
   "pygments_lexer": "ipython3",
   "version": "3.6.13"
  }
 },
 "nbformat": 4,
 "nbformat_minor": 5
}
